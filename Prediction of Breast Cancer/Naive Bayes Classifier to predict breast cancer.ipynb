{
 "cells": [
  {
   "cell_type": "markdown",
   "metadata": {},
   "source": [
    "### Steps:\n",
    "### 1. Import Libraries"
   ]
  },
  {
   "cell_type": "code",
   "execution_count": 40,
   "metadata": {},
   "outputs": [],
   "source": [
    "import matplotlib.pyplot as plt\n",
    "import numpy as np\n",
    "import pandas as pd"
   ]
  },
  {
   "cell_type": "markdown",
   "metadata": {},
   "source": [
    "### 2. Define Naive Bayes Classifier class"
   ]
  },
  {
   "cell_type": "code",
   "execution_count": 41,
   "metadata": {},
   "outputs": [],
   "source": [
    "class NaiveBayesClassifier(object):\n",
    "    \n",
    "    def __init__(self):\n",
    "        pass\n",
    "    \n",
    "    #Input: X - features of a trainset\n",
    "    #       y - labels of a trainset\n",
    "    def fit(self, X, y):\n",
    "        self.X_train = X\n",
    "        self.y_train = y\n",
    "        \n",
    "        self.no_of_classes = np.max(self.y_train) + 1\n",
    "     \n",
    "    def euclidianDistance(self, Xtest, Xtrain):\n",
    "        return np.sqrt(np.sum(np.power((Xtest - Xtrain), 2)))\n",
    "    \n",
    "    def predict(self, X, radius=0.4):   \n",
    "        pred = []\n",
    "        \n",
    "        members_of_class = []\n",
    "        for i in range(self.no_of_classes):\n",
    "            counter = 0\n",
    "            for j in range(len(self.y_train)):\n",
    "                if self.y_train[j] == i:\n",
    "                    counter += 1\n",
    "            members_of_class.append(counter)\n",
    "        \n",
    "        for t in range(len(X)):\n",
    "            \n",
    "            prob_of_classes = []\n",
    "          \n",
    "            for i in range(self.no_of_classes):\n",
    "                \n",
    "                #1. step > Prior probability P(class) = no_of_elements_of_that_class/total_no_of_elements\n",
    "                prior_prob = members_of_class[i]/len(self.y_train)\n",
    "\n",
    "                #2. step > Margin probability P(X) = no_of_elements_in_radius/total_no_of_elements\n",
    "                               \n",
    "                inRadius_no = 0\n",
    "               \n",
    "                inRadius_no_current_class = 0\n",
    "                \n",
    "                for j in range(len(self.X_train)):\n",
    "                    if self.euclidianDistance(X[t], self.X_train[j]) < radius:\n",
    "                        inRadius_no += 1\n",
    "                        if self.y_train[j] == i:\n",
    "                            inRadius_no_current_class += 1\n",
    "                \n",
    "                #Computing, margin probability\n",
    "                margin_prob = inRadius_no/len(self.X_train)\n",
    "                \n",
    "                #3. step > Likelihood P(X|current_class) = no_of_elements_in_circle_of_current_class/total_no_of_elements\n",
    "                likelihood = inRadius_no_current_class/len(self.X_train)\n",
    "                \n",
    "                #4. step > Posterial Probability > formula from Bayes theorem: P(current_class | X) = (likelihood*prior_prob)/margin_prob\n",
    "                post_prob = (likelihood * prior_prob)/margin_prob\n",
    "                prob_of_classes.append(post_prob)\n",
    "            \n",
    "            pred.append(np.argmax(prob_of_classes))\n",
    "                \n",
    "        return pred"
   ]
  },
  {
   "cell_type": "markdown",
   "metadata": {},
   "source": [
    "### 3. Define accuracy "
   ]
  },
  {
   "cell_type": "code",
   "execution_count": 42,
   "metadata": {},
   "outputs": [],
   "source": [
    "def accuracy(y_test, y_pred):\n",
    "    correct = 0\n",
    "    for i in range(len(y_pred)):\n",
    "        if(y_test[i] == y_pred[i]):\n",
    "            correct += 1\n",
    "    return (correct/len(y_test))*100"
   ]
  },
  {
   "cell_type": "markdown",
   "metadata": {},
   "source": [
    "### 4. Import breastcancer dataset, splitting it into training and testing dataset, fitting the model and finding accuracy"
   ]
  },
  {
   "cell_type": "code",
   "execution_count": 43,
   "metadata": {},
   "outputs": [],
   "source": [
    "def breastCancerTest():\n",
    "   \n",
    "    dataset = pd.read_csv('Downloads/bc.csv')\n",
    "    dataset.replace('?', 0, inplace=True)\n",
    "    dataset = dataset.applymap(np.int64)\n",
    "    X = dataset.iloc[:, 1:-1].values    \n",
    "    y = dataset.iloc[:, -1].values\n",
    "   \n",
    "    y_new = []\n",
    "    for i in range(len(y)):\n",
    "        if y[i] == 2:\n",
    "            y_new.append(0)\n",
    "        else:\n",
    "            y_new.append(1)\n",
    "    y_new = np.array(y_new)\n",
    "\n",
    "    # Splitting the dataset into the Training set and Test set\n",
    "    from sklearn.model_selection import train_test_split\n",
    "    X_train, X_test, y_train, y_test = train_test_split(X, y, test_size = 0.25, random_state = 77)\n",
    "\n",
    "    #Testing Naive Bayes Classifier\n",
    "    NB = NaiveBayesClassifier()\n",
    "    NB.fit(X_train, y_train)\n",
    "    \n",
    "    y_pred = NB.predict(X_test, radius=8)     \n",
    "    \n",
    "    print(\"Accuracy: \", accuracy(y_test, y_pred), \"%\")"
   ]
  },
  {
   "cell_type": "code",
   "execution_count": 44,
   "metadata": {},
   "outputs": [
    {
     "name": "stdout",
     "output_type": "stream",
     "text": [
      "Accuracy:  97.6608187134503 %\n"
     ]
    }
   ],
   "source": [
    "breastCancerTest()"
   ]
  }
 ],
 "metadata": {
  "kernelspec": {
   "display_name": "Python 3",
   "language": "python",
   "name": "python3"
  },
  "language_info": {
   "codemirror_mode": {
    "name": "ipython",
    "version": 3
   },
   "file_extension": ".py",
   "mimetype": "text/x-python",
   "name": "python",
   "nbconvert_exporter": "python",
   "pygments_lexer": "ipython3",
   "version": "3.7.1"
  }
 },
 "nbformat": 4,
 "nbformat_minor": 2
}
