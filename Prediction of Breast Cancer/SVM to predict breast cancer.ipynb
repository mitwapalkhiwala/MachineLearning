{
 "cells": [
  {
   "cell_type": "markdown",
   "metadata": {},
   "source": [
    "### Steps:\n",
    "### 1. Import Libraries"
   ]
  },
  {
   "cell_type": "code",
   "execution_count": 61,
   "metadata": {},
   "outputs": [],
   "source": [
    "import pandas as pd\n",
    "import numpy as np\n",
    "from sklearn.model_selection import train_test_split\n",
    "from sklearn.svm import SVC\n",
    "from sklearn.metrics import accuracy_score, confusion_matrix"
   ]
  },
  {
   "cell_type": "markdown",
   "metadata": {},
   "source": [
    "### 2. Read dataset and define variables"
   ]
  },
  {
   "cell_type": "code",
   "execution_count": 50,
   "metadata": {},
   "outputs": [],
   "source": [
    "data = pd.read_csv(\"Downloads/bc.csv\")\n",
    "X=data.drop(['Class'],axis=1)\n",
    "y=data['Class']"
   ]
  },
  {
   "cell_type": "markdown",
   "metadata": {},
   "source": [
    "### 3. Divide in training and testing dataset"
   ]
  },
  {
   "cell_type": "code",
   "execution_count": 51,
   "metadata": {},
   "outputs": [],
   "source": [
    "X_train,X_test,y_train,y_test = train_test_split(X,y,test_size=0.15,random_state=10)"
   ]
  },
  {
   "cell_type": "markdown",
   "metadata": {},
   "source": [
    "### 4. Train Support Vector Classifier model"
   ]
  },
  {
   "cell_type": "code",
   "execution_count": 52,
   "metadata": {},
   "outputs": [
    {
     "name": "stderr",
     "output_type": "stream",
     "text": [
      "C:\\Users\\Mitwa Palkhiwala\\Anaconda3\\lib\\site-packages\\sklearn\\svm\\base.py:193: FutureWarning: The default value of gamma will change from 'auto' to 'scale' in version 0.22 to account better for unscaled features. Set gamma explicitly to 'auto' or 'scale' to avoid this warning.\n",
      "  \"avoid this warning.\", FutureWarning)\n"
     ]
    },
    {
     "data": {
      "text/plain": [
       "SVC(C=1.0, cache_size=200, class_weight=None, coef0=0.0,\n",
       "    decision_function_shape='ovr', degree=3, gamma='auto_deprecated',\n",
       "    kernel='rbf', max_iter=-1, probability=False, random_state=None,\n",
       "    shrinking=True, tol=0.001, verbose=False)"
      ]
     },
     "execution_count": 52,
     "metadata": {},
     "output_type": "execute_result"
    }
   ],
   "source": [
    "model = SVC()\n",
    "model.fit(X_train, y_train) "
   ]
  },
  {
   "cell_type": "markdown",
   "metadata": {},
   "source": [
    "### 5. Prediction using the trained model "
   ]
  },
  {
   "cell_type": "code",
   "execution_count": 53,
   "metadata": {},
   "outputs": [],
   "source": [
    "predicted=model.predict(X_test)"
   ]
  },
  {
   "cell_type": "markdown",
   "metadata": {},
   "source": [
    "### 6. Find the accuracy"
   ]
  },
  {
   "cell_type": "code",
   "execution_count": 54,
   "metadata": {},
   "outputs": [
    {
     "name": "stdout",
     "output_type": "stream",
     "text": [
      "0.9514563106796117\n"
     ]
    }
   ],
   "source": [
    "print (accuracy_score(y_test, predicted))"
   ]
  },
  {
   "cell_type": "markdown",
   "metadata": {},
   "source": [
    "### 7. Print Confusion Matrix"
   ]
  },
  {
   "cell_type": "code",
   "execution_count": 59,
   "metadata": {},
   "outputs": [
    {
     "data": {
      "text/plain": [
       "array([[30,  4],\n",
       "       [ 1, 68]], dtype=int64)"
      ]
     },
     "execution_count": 59,
     "metadata": {},
     "output_type": "execute_result"
    }
   ],
   "source": [
    "confusion_matrix(y_test, predicted,labels=[1,0])"
   ]
  },
  {
   "cell_type": "markdown",
   "metadata": {},
   "source": [
    "### 8. List the support vectors"
   ]
  },
  {
   "cell_type": "code",
   "execution_count": 55,
   "metadata": {},
   "outputs": [
    {
     "data": {
      "text/plain": [
       "array([[199.,   1.,   1., ...,   1.,   1.,   1.],\n",
       "       [ 23.,   3.,   1., ...,   2.,   1.,   1.],\n",
       "       [338.,   1.,   1., ...,   3.,   1.,   1.],\n",
       "       ...,\n",
       "       [265.,   7.,   9., ...,   5.,   3.,   3.],\n",
       "       [335.,   8.,   6., ...,   3.,   4.,   2.],\n",
       "       [274.,   7.,   2., ...,   3.,   3.,   1.]])"
      ]
     },
     "execution_count": 55,
     "metadata": {},
     "output_type": "execute_result"
    }
   ],
   "source": [
    "model.support_vectors_"
   ]
  },
  {
   "cell_type": "markdown",
   "metadata": {},
   "source": [
    "### 9. Indices of Support Vectors"
   ]
  },
  {
   "cell_type": "code",
   "execution_count": 56,
   "metadata": {},
   "outputs": [
    {
     "data": {
      "text/plain": [
       "array([  1,   2,   3,   4,   6,   9,  11,  14,  15,  16,  17,  18,  19,\n",
       "        24,  26,  27,  29,  30,  38,  39,  40,  43,  45,  46,  47,  49,\n",
       "        50,  51,  54,  56,  57,  58,  60,  63,  66,  67,  70,  71,  73,\n",
       "        74,  75,  76,  78,  79,  80,  82,  83,  84,  85,  86,  89,  90,\n",
       "        91,  93,  95,  99, 101, 104, 107, 108, 109, 111, 112, 113, 115,\n",
       "       117, 118, 121, 122, 123, 124, 125, 127, 128, 132, 134, 135, 136,\n",
       "       137, 138, 140, 141, 142, 143, 144, 146, 151, 152, 154, 155, 156,\n",
       "       157, 159, 162, 163, 165, 167, 168, 170, 171, 172, 174, 176, 177,\n",
       "       178, 179, 181, 182, 183, 185, 186, 188, 189, 191, 192, 194, 195,\n",
       "       196, 197, 198, 200, 202, 206, 208, 209, 213, 214, 215, 216, 221,\n",
       "       222, 223, 224, 226, 228, 232, 233, 235, 236, 237, 238, 241, 246,\n",
       "       247, 248, 249, 253, 254, 255, 256, 257, 258, 261, 262, 264, 265,\n",
       "       267, 268, 269, 270, 271, 272, 274, 276, 277, 278, 279, 282, 284,\n",
       "       285, 287, 288, 289, 291, 293, 294, 296, 297, 298, 299, 300, 302,\n",
       "       303, 306, 308, 310, 312, 313, 315, 317, 320, 321, 324, 325, 326,\n",
       "       328, 329, 330, 332, 333, 334, 335, 336, 337, 338, 340, 341, 344,\n",
       "       345, 346, 347, 348, 349, 350, 351, 357, 358, 361, 362, 365, 367,\n",
       "       368, 372, 373, 374, 377, 379, 380, 381, 382, 383, 384, 385, 388,\n",
       "       389, 390, 394, 395, 396, 398, 399, 400, 401, 402, 404, 406, 407,\n",
       "       408, 409, 411, 415, 417, 418, 419, 420, 421, 423, 425, 426, 427,\n",
       "       430, 432, 433, 434, 436, 437, 438, 439, 442, 443, 444, 446, 447,\n",
       "       448, 449, 450, 453, 455, 456, 457, 459, 460, 461, 463, 464, 467,\n",
       "       468, 469, 470, 472, 473, 474, 475, 476, 477, 480, 481, 482, 483,\n",
       "       485, 486, 487, 488, 489, 492, 494, 495, 496, 498, 499, 500, 504,\n",
       "       507, 509, 513, 514, 517, 519, 520, 524, 525, 527, 529, 535, 536,\n",
       "       537, 540, 541, 543, 544, 545, 547, 548, 549, 550, 551, 552, 554,\n",
       "       555, 557, 560, 562, 564, 566, 568, 570, 571, 572, 573, 574, 575,\n",
       "       577, 578,   0,   5,   7,  10,  12,  13,  20,  21,  22,  23,  25,\n",
       "        31,  32,  33,  34,  36,  37,  41,  42,  44,  48,  52,  53,  59,\n",
       "        61,  62,  64,  65,  68,  69,  72,  77,  81,  87,  92,  94,  96,\n",
       "        97,  98, 100, 102, 103, 105, 106, 110, 114, 116, 119, 120, 126,\n",
       "       129, 131, 133, 139, 145, 147, 149, 150, 153, 158, 160, 161, 164,\n",
       "       166, 169, 175, 180, 187, 190, 199, 201, 203, 204, 205, 207, 210,\n",
       "       211, 212, 217, 218, 219, 220, 225, 227, 229, 230, 231, 234, 239,\n",
       "       240, 242, 243, 245, 250, 251, 252, 259, 260, 263, 266, 273, 275,\n",
       "       280, 281, 283, 286, 292, 295, 304, 305, 307, 309, 311, 314, 316,\n",
       "       318, 319, 322, 323, 327, 331, 339, 342, 343, 352, 353, 354, 355,\n",
       "       356, 359, 360, 363, 364, 366, 369, 370, 375, 376, 378, 386, 391,\n",
       "       392, 393, 397, 403, 405, 410, 412, 413, 414, 416, 422, 424, 428,\n",
       "       429, 431, 435, 440, 441, 445, 451, 452, 454, 458, 462, 465, 466,\n",
       "       471, 478, 479, 484, 490, 491, 493, 497, 501, 502, 503, 505, 510,\n",
       "       511, 515, 516, 518, 521, 522, 523, 528, 530, 532, 534, 538, 539,\n",
       "       542, 546, 553, 556, 558, 559, 561, 565, 567, 569, 576, 579])"
      ]
     },
     "execution_count": 56,
     "metadata": {},
     "output_type": "execute_result"
    }
   ],
   "source": [
    "model.support_"
   ]
  },
  {
   "cell_type": "markdown",
   "metadata": {},
   "source": [
    "### 10. Number of support vectors in each class"
   ]
  },
  {
   "cell_type": "code",
   "execution_count": 57,
   "metadata": {},
   "outputs": [
    {
     "data": {
      "text/plain": [
       "array([353, 205])"
      ]
     },
     "execution_count": 57,
     "metadata": {},
     "output_type": "execute_result"
    }
   ],
   "source": [
    "model.n_support_"
   ]
  }
 ],
 "metadata": {
  "kernelspec": {
   "display_name": "Python 3",
   "language": "python",
   "name": "python3"
  },
  "language_info": {
   "codemirror_mode": {
    "name": "ipython",
    "version": 3
   },
   "file_extension": ".py",
   "mimetype": "text/x-python",
   "name": "python",
   "nbconvert_exporter": "python",
   "pygments_lexer": "ipython3",
   "version": "3.7.1"
  }
 },
 "nbformat": 4,
 "nbformat_minor": 2
}
