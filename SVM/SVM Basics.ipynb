{
 "cells": [
  {
   "cell_type": "markdown",
   "metadata": {},
   "source": [
    "### Steps:\n",
    "### 1. Import Libraries"
   ]
  },
  {
   "cell_type": "code",
   "execution_count": 8,
   "metadata": {},
   "outputs": [],
   "source": [
    "import numpy as np\n",
    "from sklearn import svm\n",
    "from matplotlib import pyplot"
   ]
  },
  {
   "cell_type": "markdown",
   "metadata": {},
   "source": [
    "### 2. Define the classes "
   ]
  },
  {
   "cell_type": "code",
   "execution_count": 9,
   "metadata": {},
   "outputs": [
    {
     "name": "stdout",
     "output_type": "stream",
     "text": [
      "[[ 2  6]\n",
      " [ 1  1]\n",
      " [ 3  4]\n",
      " [ 3  2]\n",
      " [-4  8]\n",
      " [-1  3]\n",
      " [ 2  2]\n",
      " [-5 -7]\n",
      " [-2 -3]\n",
      " [-1 -2]\n",
      " [ 3 -7]\n",
      " [ 1 -3]] [0 0 0 0 0 0 0 1 1 1 1 1]\n"
     ]
    }
   ],
   "source": [
    "C = [ [2,6], [1 ,1], [3 ,4], [3 ,2], [-4 ,8], [-1, 3], [2, 2], [-5, -7], [-2, -3], [-1, -2], [3, -7], [1, -3]]\n",
    "Y = [0,0,0,0,0,0,0,1,1,1,1,1]\n",
    "C1= np.asarray(C)\n",
    "Y1= np.asarray(Y)\n",
    "print(C1,Y1)"
   ]
  },
  {
   "cell_type": "markdown",
   "metadata": {},
   "source": [
    "### 3. SVM model"
   ]
  },
  {
   "cell_type": "code",
   "execution_count": 10,
   "metadata": {},
   "outputs": [],
   "source": [
    "model = svm.SVC(kernel='linear', C=1000)\n",
    "model.fit(C1, Y1)\n",
    "bias = model.intercept_[0]"
   ]
  },
  {
   "cell_type": "markdown",
   "metadata": {},
   "source": [
    "### 4. Print the support vectors"
   ]
  },
  {
   "cell_type": "code",
   "execution_count": 18,
   "metadata": {},
   "outputs": [
    {
     "name": "stdout",
     "output_type": "stream",
     "text": [
      "[ 2  1  3  3 -4 -1  2 -5 -2 -1  3  1]\n",
      "Support Vectors: [[ 1.  1.]\n",
      " [-1. -2.]\n",
      " [ 1. -3.]]\n",
      "Number of support vectors in each class: [1 2]\n",
      "Weights:  0.0\n"
     ]
    }
   ],
   "source": [
    "print(C1[:,0])\n",
    "\n",
    "print(\"Support Vectors:\",model.support_vectors_)\n",
    "print(\"Number of support vectors in each class:\",model.n_support_)\n",
    "print(\"Weights: \",model.coef0)"
   ]
  },
  {
   "cell_type": "markdown",
   "metadata": {},
   "source": [
    "### 5. Plot the model"
   ]
  },
  {
   "cell_type": "code",
   "execution_count": 21,
   "metadata": {},
   "outputs": [
    {
     "data": {
      "image/png": "[encoded data removed]",
      "text/plain": [
       "<Figure size 432x288 with 1 Axes>"
      ]
     },
     "metadata": {
      "needs_background": "light"
     },
     "output_type": "display_data"
    },
    {
     "name": "stdout",
     "output_type": "stream",
     "text": [
      "weights:  [-0.24994083 -0.49988166]\n",
      "a -0.4999999999999999\n",
      "margin: 1.7892778797228428\n"
     ]
    }
   ],
   "source": [
    "pyplot.scatter(C1[:, 0], C1[:, 1], c=Y1, s=30, cmap=pyplot.cm.Paired)\n",
    "\n",
    "aX = pyplot.gca()\n",
    "xLimit = aX.get_xlim()\n",
    "yLimit = aX.get_ylim()\n",
    "\n",
    "x = np.linspace(xLimit[0], xLimit[1], 30)       #defining the hyperplanes                  \n",
    "y = np.linspace(yLimit[0], yLimit[1], 30)\n",
    "Y, X = np.meshgrid(y, x)\n",
    "xy = np.vstack([X.ravel(), Y.ravel()]).T\n",
    "Z = model.decision_function(xy).reshape(X.shape)\n",
    "\n",
    "\n",
    "aX.contour(X, Y, Z, colors='r', levels=[-1, 0, 1], alpha=0.7, linestyles=['-', '--', '-']) # plot decision boundary and margins\n",
    "\n",
    "\n",
    "aX.scatter(model.support_vectors_[:, 0], model.support_vectors_[:, 1], s=90,linewidth=1, facecolors='none')\n",
    "pyplot.show()                                        # plot support vectors\n",
    "\n",
    "\n",
    "# weights and margin\n",
    "w = model.coef_[0]\n",
    "a = -w[0] / w[1]\n",
    "x = np.linspace(-7, 7)\n",
    "\n",
    "y = a * x - (model.intercept_[0]) / w[1]\n",
    "margin = 1 / np.sqrt(np.sum(model.coef_ ** 2)) #equation of maximum margin\n",
    "\n",
    "\n",
    "print(\"weights: \",w)\n",
    "\n",
    "print(\"a\",a)\n",
    "\n",
    "print(\"margin:\",margin)  #length of maximum margin\n"
   ]
  },
  {
   "cell_type": "code",
   "execution_count": null,
   "metadata": {},
   "outputs": [],
   "source": []
  }
 ],
 "metadata": {
  "kernelspec": {
   "display_name": "Python 3",
   "language": "python",
   "name": "python3"
  },
  "language_info": {
   "codemirror_mode": {
    "name": "ipython",
    "version": 3
   },
   "file_extension": ".py",
   "mimetype": "text/x-python",
   "name": "python",
   "nbconvert_exporter": "python",
   "pygments_lexer": "ipython3",
   "version": "3.7.1"
  }
 },
 "nbformat": 4,
 "nbformat_minor": 2
}
